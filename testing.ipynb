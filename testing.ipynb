{
 "cells": [
  {
   "cell_type": "code",
   "execution_count": null,
   "metadata": {},
   "outputs": [],
   "source": [
    "# !pip install mysql-connector-python==9.0.0 Flask==3.0.3 pandas==2.2.2 flask-cors==4.0.1 requests==2.32.3"
   ]
  },
  {
   "cell_type": "code",
   "execution_count": 2,
   "metadata": {},
   "outputs": [],
   "source": [
    "import pandas as pd\n",
    "import mysql.connector\n",
    "from mysql.connector import errorcode\n",
    "import matplotlib.pyplot as plt"
   ]
  },
  {
   "cell_type": "code",
   "execution_count": 3,
   "metadata": {},
   "outputs": [],
   "source": [
    "# Columnas a utilizar\n",
    "COLSTOUSE = [\n",
    "  'periodo',\n",
    "  'cole_area_ubicacion',\n",
    "  'cole_naturaleza',\n",
    "  'cole_cod_dane_establecimiento',\n",
    "  'cole_depto_ubicacion',\n",
    "  'cole_mcpio_ubicacion',\n",
    "  'cole_nombre_establecimiento',\n",
    "  'estu_depto_presentacion',\n",
    "  'estu_mcpio_presentacion',\n",
    "  'estu_fechanacimiento',\n",
    "  'estu_estadoinvestigacion',\n",
    "  'estu_genero',\n",
    "  'estu_estudiante',\n",
    "  'fami_estratovivienda'\n",
    "  'desemp_ingles',\n",
    "  'punt_ingles',\n",
    "  'punt_matematicas',\n",
    "  'punt_sociales_ciudadanas',\n",
    "  'punt_c_naturales',\n",
    "  'punt_lectura_critica',\n",
    "  'punt_global'\n",
    "]\n",
    "\n",
    "# Detalles de configuracion de la base de datos\n",
    "CONFIG = {\n",
    "    'user': 'admin',\n",
    "    'password': 'Unacontra123.',\n",
    "    'host': 'icfes.cxa2yu08iduf.us-east-2.rds.amazonaws.com',\n",
    "    'raise_on_warnings': True,\n",
    "    'database': 'icfes_11'\n",
    "}"
   ]
  },
  {
   "cell_type": "code",
   "execution_count": 24,
   "metadata": {},
   "outputs": [],
   "source": [
    "def connect_to_database():\n",
    "    try:\n",
    "        connection = mysql.connector.connect(**CONFIG)\n",
    "        if connection.is_connected():\n",
    "            print(\"Conectado exitosamente a la base de datos\")\n",
    "            return connection\n",
    "    except errorcode as e:\n",
    "        print(f\"Error al conectar a MySQL: {e}\")\n",
    "        return None\n",
    "\n",
    "def execute_query(connection, query):\n",
    "    cursor = connection.cursor(dictionary=True)\n",
    "    try:\n",
    "        cursor.execute(query)\n",
    "        results = cursor.fetchall()\n",
    "        return results\n",
    "    except errorcode as e:\n",
    "        print(f\"Error al ejecutar la consulta: {e}\")\n",
    "        return None\n",
    "    finally:\n",
    "        cursor.close()\n",
    "\n",
    "def get_promedios_colombia(connection, start=20142, end=20222):\n",
    "    query = f\"\"\"\n",
    "    SELECT\n",
    "      *\n",
    "    FROM promedios_colombia\n",
    "    WHERE periodo >= {start} AND periodo <= {end}\n",
    "    LIMIT 1000\n",
    "    \"\"\"\n",
    "    return execute_query(connection, query)\n",
    "\n",
    "def get_promedios_departamento(connection, start=20142, end=20222):\n",
    "    query = f\"\"\"\n",
    "    SELECT\n",
    "      *\n",
    "    FROM promedios_departamento\n",
    "    WHERE periodo >= {start} AND periodo <= {end}\n",
    "    LIMIT 1000\n",
    "    \"\"\"\n",
    "    return execute_query(connection, query)\n",
    "\n",
    "def get_promedios_colombia_year(connection, start=20142, end=20222):\n",
    "    query = \"\"\"\n",
    "    SELECT\n",
    "        LEFT(periodo, 4) AS year,\n",
    "        CAST(AVG(promedio_global) AS DECIMAL(25,2)) AS promedio_global,\n",
    "        CAST(AVG(promedio_lectura_critica) AS DECIMAL(25,2)) AS promedio_lectura_critica,\n",
    "        CAST(AVG(promedio_matematicas) AS DECIMAL(25,2)) AS promedio_matematicas,\n",
    "        CAST(AVG(promedio_c_naturales) AS DECIMAL(25,2)) AS promedio_c_naturales,\n",
    "        CAST(AVG(promedio_sociales_ciudadanas) AS DECIMAL(25,2)) AS promedio_sociales_ciudadanas,\n",
    "        CAST(AVG(promedio_ingles) AS DECIMAL(25,2)) AS promedio_ingles\n",
    "    FROM \n",
    "        promedios_colombia\n",
    "    WHERE periodo >=20142\n",
    "    GROUP BY \n",
    "        LEFT(periodo, 4)\n",
    "    ORDER BY \n",
    "        year\n",
    "    LIMIT 1000\n",
    "    \"\"\"\n",
    "\n",
    "    return execute_query(connection, query)\n",
    "\n",
    "def get_promedios_departamento_year(connection, start=20142, end=20222):\n",
    "    query = \"\"\"\n",
    "    SELECT\n",
    "        LEFT(periodo, 4) AS year,\n",
    "        departamento,\n",
    "        CAST(AVG(promedio_global) AS DECIMAL(25,2)) AS promedio_global,\n",
    "        CAST(AVG(promedio_lectura_critica) AS DECIMAL(25,2)) AS promedio_lectura_critica,\n",
    "        CAST(AVG(promedio_matematicas) AS DECIMAL(25,2)) AS promedio_matematicas,\n",
    "        CAST(AVG(promedio_c_naturales) AS DECIMAL(25,2)) AS promedio_c_naturales,\n",
    "        CAST(AVG(promedio_sociales_ciudadanas) AS DECIMAL(25,2)) AS promedio_sociales_ciudadanas,\n",
    "        CAST(AVG(promedio_ingles) AS DECIMAL(25,2)) AS promedio_ingles\n",
    "    FROM \n",
    "        promedios_departamento\n",
    "    WHERE periodo >=20142\n",
    "    GROUP BY \n",
    "        departamento, \n",
    "        LEFT(periodo, 4)\n",
    "    ORDER BY \n",
    "        year\n",
    "    LIMIT 1000\n",
    "    \"\"\"\n",
    "\n",
    "    return execute_query(connection, query)\n",
    "\n",
    "def get_consulta_departamento(connection, departamento, start_year, end_year):\n",
    "    # Consulta inicial por departamento y rango de años para saber 11\n",
    "    start_periodo = start_year * 10 + 1\n",
    "    end_periodo = end_year * 10 + 9\n",
    "\n",
    "    query = f\"\"\"\n",
    "    SELECT\n",
    "    *\n",
    "    FROM saber11\n",
    "    WHERE cole_depto_ubicacion = \"{departamento}\" AND periodo >= {start_periodo} AND periodo <= {end_periodo}\n",
    "    LIMIT 1000000;\n",
    "    \"\"\"\n",
    "    return execute_query(connection, query)\n",
    "\n",
    "\n",
    "def get_promedios_departamento_pro_year(connection, start=20181, end=20227):\n",
    "    query = f\"\"\"\n",
    "    SELECT\n",
    "        LEFT(periodo, 4) AS year,\n",
    "        departamento,\n",
    "        CAST(AVG(promedio_c_ciudadana) AS DECIMAL(25,2)) AS promedio_c_ciudadana,\n",
    "        CAST(AVG(promedio_comuni_escrita) AS DECIMAL(25,2)) AS promedio_comuni_escrita,\n",
    "        CAST(AVG(promedio_ingles) AS DECIMAL(25,2)) AS promedio_ingles,\n",
    "        CAST(AVG(promedio_lectura_critica) AS DECIMAL(25,2)) AS promedio_lectura_critica,\n",
    "        CAST(AVG(promedio_razona_cuantitativo) AS DECIMAL(25,2)) AS promedio_razona_cuantitativo\n",
    "    FROM \n",
    "        promedios_departamento_pro\n",
    "    WHERE periodo >= {start} AND periodo <= {end}\n",
    "    GROUP BY \n",
    "        departamento, \n",
    "        LEFT(periodo, 4)\n",
    "    ORDER BY \n",
    "        year\n",
    "    LIMIT 1000\n",
    "    \"\"\"\n",
    "\n",
    "    return execute_query(connection, query)\n",
    "\n",
    "def get_consulta_departamento_pro(connection, departamento, start_year, end_year):\n",
    "    # Consulta inicial por departamento y rango de años para saber pro\n",
    "    start_periodo = start_year * 10 + 1\n",
    "    end_periodo = end_year * 10 + 9\n",
    "\n",
    "    query = f\"\"\"\n",
    "    SELECT\n",
    "    *\n",
    "    FROM saberpro_reduced\n",
    "    WHERE inst_depto_ubicacion = \"{departamento}\" AND periodo >= {start_periodo} AND periodo <= {end_periodo}\n",
    "    ORDER BY periodo\n",
    "    LIMIT 1000000;\n",
    "    \"\"\"\n",
    "\n",
    "    return execute_query(connection, query)"
   ]
  },
  {
   "cell_type": "code",
   "execution_count": 5,
   "metadata": {},
   "outputs": [
    {
     "name": "stdout",
     "output_type": "stream",
     "text": [
      "Conectado exitosamente a la base de datos\n"
     ]
    }
   ],
   "source": [
    "connection = connect_to_database()"
   ]
  },
  {
   "cell_type": "code",
   "execution_count": 19,
   "metadata": {},
   "outputs": [],
   "source": [
    "query=\"\"\"\n",
    "    SELECT\n",
    "    *\n",
    "    FROM saber11\n",
    "    WHERE cole_depto_ubicacion = SANTANDER AND periodo >= 20142 AND periodo <= 20152\n",
    "    ORDER BY periodo\n",
    "    LIMIT 1000000;\n",
    "\"\"\"\n",
    "\n",
    "result_df =  pd.DataFrame(execute_query(connection, query))"
   ]
  },
  {
   "cell_type": "code",
   "execution_count": 59,
   "metadata": {},
   "outputs": [],
   "source": [
    "result_df = pd.DataFrame(get_consulta_departamento_pro(connection, \"SANTANDER\", 2018, 2018))"
   ]
  },
  {
   "cell_type": "code",
   "execution_count": 61,
   "metadata": {},
   "outputs": [
    {
     "data": {
      "text/plain": [
       "['BUCARAMANGA', 'SAN GIL', 'BARRANCABERMEJA', 'SOCORRO']"
      ]
     },
     "execution_count": 61,
     "metadata": {},
     "output_type": "execute_result"
    }
   ],
   "source": [
    "municipios = result_df['ESTU_INST_MUNICIPIO'].unique().tolist()\n",
    "municipios"
   ]
  },
  {
   "cell_type": "code",
   "execution_count": 66,
   "metadata": {},
   "outputs": [
    {
     "data": {
      "text/html": [
       "<div>\n",
       "<style scoped>\n",
       "    .dataframe tbody tr th:only-of-type {\n",
       "        vertical-align: middle;\n",
       "    }\n",
       "\n",
       "    .dataframe tbody tr th {\n",
       "        vertical-align: top;\n",
       "    }\n",
       "\n",
       "    .dataframe thead th {\n",
       "        text-align: right;\n",
       "    }\n",
       "</style>\n",
       "<table border=\"1\" class=\"dataframe\">\n",
       "  <thead>\n",
       "    <tr style=\"text-align: right;\">\n",
       "      <th></th>\n",
       "      <th>periodo</th>\n",
       "      <th>inst_depto_ubicacion</th>\n",
       "      <th>inst_naturaleza</th>\n",
       "      <th>inst_cod_institucion</th>\n",
       "      <th>ESTU_INST_DEPARTAMENTO</th>\n",
       "      <th>INST_NOMBRE_INSTITUCION</th>\n",
       "      <th>ESTU_DEPTO_PRESENTACION</th>\n",
       "      <th>ESTU_MCPIO_PRESENTACION</th>\n",
       "      <th>estu_fechanacimiento</th>\n",
       "      <th>ESTU_ESTADOINVESTIGACION</th>\n",
       "      <th>ESTU_GENERO</th>\n",
       "      <th>ESTU_ESTUDIANTE</th>\n",
       "      <th>FAMI_ESTRATOVIVIENDA</th>\n",
       "      <th>desemp_ingles</th>\n",
       "      <th>punt_ingles</th>\n",
       "      <th>punt_razona_cuantitativo</th>\n",
       "      <th>punt_c_ciudadana</th>\n",
       "      <th>punt_lectura_critica</th>\n",
       "      <th>punt_comuni_escrita</th>\n",
       "    </tr>\n",
       "  </thead>\n",
       "  <tbody>\n",
       "    <tr>\n",
       "      <th>0</th>\n",
       "      <td>20183</td>\n",
       "      <td>SANTANDER</td>\n",
       "      <td>UNIVERSIDAD</td>\n",
       "      <td>2832</td>\n",
       "      <td>SANTANDER</td>\n",
       "      <td>UNIVERSIDAD DE SANTANDER - UDES-BUCARAMANGA</td>\n",
       "      <td>NORTE SANTANDER</td>\n",
       "      <td>CÚCUTA</td>\n",
       "      <td>02/02/1996</td>\n",
       "      <td>PUBLICAR</td>\n",
       "      <td>M</td>\n",
       "      <td>ESTUDIANTE</td>\n",
       "      <td>2</td>\n",
       "      <td>A1</td>\n",
       "      <td>138</td>\n",
       "      <td>153</td>\n",
       "      <td>108</td>\n",
       "      <td>147</td>\n",
       "      <td>151.0</td>\n",
       "    </tr>\n",
       "    <tr>\n",
       "      <th>1</th>\n",
       "      <td>20183</td>\n",
       "      <td>SANTANDER</td>\n",
       "      <td>INSTITUCIÓN UNIVERSITARIA</td>\n",
       "      <td>2847</td>\n",
       "      <td>SANTANDER</td>\n",
       "      <td>UNIVERSIDAD DE INVESTIGACION Y DESARROLLO - UD...</td>\n",
       "      <td>SANTANDER</td>\n",
       "      <td>BUCARAMANGA</td>\n",
       "      <td>23/04/1993</td>\n",
       "      <td>PUBLICAR</td>\n",
       "      <td>M</td>\n",
       "      <td>ESTUDIANTE</td>\n",
       "      <td>3</td>\n",
       "      <td>A1</td>\n",
       "      <td>127</td>\n",
       "      <td>164</td>\n",
       "      <td>127</td>\n",
       "      <td>140</td>\n",
       "      <td>192.0</td>\n",
       "    </tr>\n",
       "  </tbody>\n",
       "</table>\n",
       "</div>"
      ],
      "text/plain": [
       "  periodo inst_depto_ubicacion            inst_naturaleza  \\\n",
       "0   20183            SANTANDER                UNIVERSIDAD   \n",
       "1   20183            SANTANDER  INSTITUCIÓN UNIVERSITARIA   \n",
       "\n",
       "  inst_cod_institucion ESTU_INST_DEPARTAMENTO  \\\n",
       "0                 2832              SANTANDER   \n",
       "1                 2847              SANTANDER   \n",
       "\n",
       "                             INST_NOMBRE_INSTITUCION ESTU_DEPTO_PRESENTACION  \\\n",
       "0        UNIVERSIDAD DE SANTANDER - UDES-BUCARAMANGA         NORTE SANTANDER   \n",
       "1  UNIVERSIDAD DE INVESTIGACION Y DESARROLLO - UD...               SANTANDER   \n",
       "\n",
       "  ESTU_MCPIO_PRESENTACION estu_fechanacimiento ESTU_ESTADOINVESTIGACION  \\\n",
       "0                  CÚCUTA           02/02/1996                 PUBLICAR   \n",
       "1             BUCARAMANGA           23/04/1993                 PUBLICAR   \n",
       "\n",
       "  ESTU_GENERO ESTU_ESTUDIANTE FAMI_ESTRATOVIVIENDA desemp_ingles  punt_ingles  \\\n",
       "0           M      ESTUDIANTE                    2            A1          138   \n",
       "1           M      ESTUDIANTE                    3            A1          127   \n",
       "\n",
       "   punt_razona_cuantitativo  punt_c_ciudadana  punt_lectura_critica  \\\n",
       "0                       153               108                   147   \n",
       "1                       164               127                   140   \n",
       "\n",
       "   punt_comuni_escrita  \n",
       "0                151.0  \n",
       "1                192.0  "
      ]
     },
     "execution_count": 66,
     "metadata": {},
     "output_type": "execute_result"
    }
   ],
   "source": [
    "df = result_df[result_df['ESTU_INST_MUNICIPIO'] == 'BUCARAMANGA'].copy()\n",
    "df.drop(columns=['ESTU_INST_MUNICIPIO'], inplace=True)\n",
    "df.head(2)"
   ]
  },
  {
   "cell_type": "code",
   "execution_count": 67,
   "metadata": {},
   "outputs": [],
   "source": [
    "PROMEDIOS_SABERPRO = ['promedio_ingles', 'promedio_razona_cuantitativo', 'promedio_c_ciudadana', 'promedio_lectura_critica', 'promedio_comuni_escrita']\n",
    "PUNTAJES_SABERPRO = ['punt_ingles', 'punt_razona_cuantitativo', 'punt_c_ciudadana', 'punt_lectura_critica', 'punt_comuni_escrita']\n",
    "df = result_df[['FAMI_ESTRATOVIVIENDA', *PUNTAJES_SABERPRO]].groupby('FAMI_ESTRATOVIVIENDA', as_index=False).mean().round(2).sort_values('FAMI_ESTRATOVIVIENDA')\n",
    "df.columns = ['Estado', *PROMEDIOS_SABERPRO]"
   ]
  },
  {
   "cell_type": "code",
   "execution_count": 26,
   "metadata": {},
   "outputs": [
    {
     "data": {
      "text/plain": [
       "712661"
      ]
     },
     "execution_count": 26,
     "metadata": {},
     "output_type": "execute_result"
    }
   ],
   "source": [
    "result = get_consulta_departamento(connection, \"BOGOTA\", 2014, 2022)\n",
    "len(result)"
   ]
  },
  {
   "cell_type": "code",
   "execution_count": 23,
   "metadata": {},
   "outputs": [
    {
     "name": "stdout",
     "output_type": "stream",
     "text": [
      "<class 'pandas.core.frame.DataFrame'>\n",
      "RangeIndex: 712661 entries, 0 to 712660\n",
      "Data columns (total 21 columns):\n",
      " #   Column                         Non-Null Count   Dtype  \n",
      "---  ------                         --------------   -----  \n",
      " 0   periodo                        712661 non-null  int64  \n",
      " 1   cole_area_ubicacion            712661 non-null  object \n",
      " 2   cole_naturaleza                712661 non-null  object \n",
      " 3   cole_cod_dane_establecimiento  712661 non-null  int64  \n",
      " 4   cole_depto_ubicacion           712661 non-null  object \n",
      " 5   cole_mcpio_ubicacion           712661 non-null  object \n",
      " 6   cole_nombre_establecimiento    712661 non-null  object \n",
      " 7   estu_depto_presentacion        712658 non-null  object \n",
      " 8   estu_mcpio_presentacion        712658 non-null  object \n",
      " 9   estu_fechanacimiento           712660 non-null  object \n",
      " 10  estu_estadoinvestigacion       712661 non-null  object \n",
      " 11  estu_genero                    712148 non-null  object \n",
      " 12  estu_estudiante                712661 non-null  object \n",
      " 13  fami_estratovivienda           691188 non-null  object \n",
      " 14  desemp_ingles                  712616 non-null  object \n",
      " 15  punt_ingles                    712607 non-null  float64\n",
      " 16  punt_matematicas               712661 non-null  int64  \n",
      " 17  punt_sociales_ciudadanas       712661 non-null  int64  \n",
      " 18  punt_c_naturales               712661 non-null  int64  \n",
      " 19  punt_lectura_critica           712661 non-null  int64  \n",
      " 20  punt_global                    712661 non-null  int64  \n",
      "dtypes: float64(1), int64(7), object(13)\n",
      "memory usage: 114.2+ MB\n"
     ]
    }
   ],
   "source": [
    "result_df = pd.DataFrame(result)\n",
    "result_df.info()"
   ]
  },
  {
   "cell_type": "code",
   "execution_count": 21,
   "metadata": {},
   "outputs": [
    {
     "data": {
      "text/plain": [
       "210007"
      ]
     },
     "execution_count": 21,
     "metadata": {},
     "output_type": "execute_result"
    }
   ],
   "source": [
    "result_df.__len__()"
   ]
  }
 ],
 "metadata": {
  "kernelspec": {
   "display_name": "Python 3",
   "language": "python",
   "name": "python3"
  },
  "language_info": {
   "codemirror_mode": {
    "name": "ipython",
    "version": 3
   },
   "file_extension": ".py",
   "mimetype": "text/x-python",
   "name": "python",
   "nbconvert_exporter": "python",
   "pygments_lexer": "ipython3",
   "version": "3.11.9"
  }
 },
 "nbformat": 4,
 "nbformat_minor": 2
}
